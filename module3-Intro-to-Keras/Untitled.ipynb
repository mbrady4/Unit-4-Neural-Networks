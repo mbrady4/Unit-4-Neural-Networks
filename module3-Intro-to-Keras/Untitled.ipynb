{
 "cells": [
  {
   "cell_type": "markdown",
   "metadata": {},
   "source": [
    "Your goal is to determine if a number, given as the parameter (in string formatting) to udc_numbers(n), looks the same upside down as it does right-side up when entered on a classic calculator (see image below). \n",
    "\n",
    "For example, the numbers \"010\", \"88\", and \"9696\" all look the same when flipped. On a classic calculator \"2\" and \"5\" also remain the same upside down, so \"25252\" and \"158020851\" would also work.\n",
    "\n",
    "Notes:\n",
    "Return \"True\" if the number is the same when flipped upside down and \"False\" if it is not.\n",
    "The parameter n is a string.\n",
    "Check that your code is PEP8 compliant (pep8online.com) — this is not tested.\n",
    "\n",
    "Example:\n",
    "Input:\n",
    "print(udc_numbers('285'))\n",
    "\n",
    "Output:\n",
    "False\n",
    "\n",
    "\n",
    "\n",
    "Stretch goal:\n",
    "\n",
    "Using the Scrabble word list attached in word_list.csv, return a list of all words that can be made entirely with upside down numbers on a calculator.\n",
    "\n",
    "Values should be as follows:\n",
    "1 : I\n",
    "2 : Z\n",
    "3 : E\n",
    "4 : h\n",
    "5 : S\n",
    "6 : g\n",
    "7 : L\n",
    "8 : B\n",
    "9 : \n",
    "0 : O\n",
    "\n",
    "hELLO LS (lambda school)\n",
    "\n",
    "\n",
    "Hints: possible tools to use: find(), replace(); think about what happens to the order of the digits when turned upside down"
   ]
  },
  {
   "cell_type": "code",
   "execution_count": 32,
   "metadata": {},
   "outputs": [
    {
     "name": "stdout",
     "output_type": "stream",
     "text": [
      "False\n"
     ]
    }
   ],
   "source": [
    "# Primary Goal\n",
    "def udc_numbers(n):\n",
    "    nums = [0,2,5,8,1]\n",
    "    for i in range(int(len(n)/2)):\n",
    "        start = int(n[i])\n",
    "        end = int(n[-1*i-1])\n",
    "        if (start == end) and (start in nums):\n",
    "            pass\n",
    "        elif (start in [6,9]) and (end in [6, 9]) and (start != end):\n",
    "            pass\n",
    "        else: \n",
    "            return False\n",
    "    if (len(n) % 2) != 0: \n",
    "        mid = int(len(n)/2)\n",
    "        mid_num = int(n[mid])\n",
    "        if mid_num not in nums:\n",
    "            return False\n",
    "    return True\n",
    "\n",
    "print(udc_numbers('0101010101010808080806226080808080101010101010'))"
   ]
  },
  {
   "cell_type": "code",
   "execution_count": null,
   "metadata": {},
   "outputs": [],
   "source": [
    "def udc_words(file):\n",
    "   pass\n",
    "\n",
    "\n"
   ]
  }
 ],
 "metadata": {
  "kernelspec": {
   "display_name": "Python 3",
   "language": "python",
   "name": "python3"
  },
  "language_info": {
   "codemirror_mode": {
    "name": "ipython",
    "version": 3
   },
   "file_extension": ".py",
   "mimetype": "text/x-python",
   "name": "python",
   "nbconvert_exporter": "python",
   "pygments_lexer": "ipython3",
   "version": "3.6.8"
  }
 },
 "nbformat": 4,
 "nbformat_minor": 2
}
