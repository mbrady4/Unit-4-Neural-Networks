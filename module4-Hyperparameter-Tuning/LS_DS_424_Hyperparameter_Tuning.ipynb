{
 "cells": [
  {
   "cell_type": "markdown",
   "metadata": {
    "colab_type": "text",
    "id": "41TS0Sa0rDNx"
   },
   "source": [
    "# Model Validation with Keras - Boston Housing Data"
   ]
  },
  {
   "cell_type": "code",
   "execution_count": 1,
   "metadata": {
    "colab": {},
    "colab_type": "code",
    "id": "ZyirqVC_sC64"
   },
   "outputs": [
    {
     "name": "stderr",
     "output_type": "stream",
     "text": [
      "Using TensorFlow backend.\n"
     ]
    }
   ],
   "source": [
    "import keras\n",
    "from keras.models import Sequential\n",
    "from keras.layers import Dense\n",
    "import pandas as pd\n",
    "import numpy\n",
    "# fix random seed for reproducibility\n",
    "numpy.random.seed(42)"
   ]
  },
  {
   "cell_type": "markdown",
   "metadata": {
    "colab_type": "text",
    "id": "0s0o2pqBs88q"
   },
   "source": [
    "### Load Boston Housing Data\n",
    "\n",
    "Even though we can import this dataset from Keras, Keras already has it divided up into test and train datasets for us I don't want that for this demonstration, so I'm going to import it from Scikit-Learn instead."
   ]
  },
  {
   "cell_type": "code",
   "execution_count": 2,
   "metadata": {
    "colab": {
     "base_uri": "https://localhost:8080/",
     "height": 212
    },
    "colab_type": "code",
    "id": "cMMt4MtAsVx0",
    "outputId": "a4e3e990-f948-46e6-ea93-dd7433a317e9"
   },
   "outputs": [
    {
     "name": "stdout",
     "output_type": "stream",
     "text": [
      "(506, 14)\n"
     ]
    },
    {
     "data": {
      "text/html": [
       "<div>\n",
       "<style scoped>\n",
       "    .dataframe tbody tr th:only-of-type {\n",
       "        vertical-align: middle;\n",
       "    }\n",
       "\n",
       "    .dataframe tbody tr th {\n",
       "        vertical-align: top;\n",
       "    }\n",
       "\n",
       "    .dataframe thead th {\n",
       "        text-align: right;\n",
       "    }\n",
       "</style>\n",
       "<table border=\"1\" class=\"dataframe\">\n",
       "  <thead>\n",
       "    <tr style=\"text-align: right;\">\n",
       "      <th></th>\n",
       "      <th>CRIM</th>\n",
       "      <th>ZN</th>\n",
       "      <th>INDUS</th>\n",
       "      <th>CHAS</th>\n",
       "      <th>NOX</th>\n",
       "      <th>RM</th>\n",
       "      <th>AGE</th>\n",
       "      <th>DIS</th>\n",
       "      <th>RAD</th>\n",
       "      <th>TAX</th>\n",
       "      <th>PTRATIO</th>\n",
       "      <th>B</th>\n",
       "      <th>LSTAT</th>\n",
       "      <th>MEDV</th>\n",
       "    </tr>\n",
       "  </thead>\n",
       "  <tbody>\n",
       "    <tr>\n",
       "      <th>0</th>\n",
       "      <td>0.00632</td>\n",
       "      <td>18.0</td>\n",
       "      <td>2.31</td>\n",
       "      <td>0.0</td>\n",
       "      <td>0.538</td>\n",
       "      <td>6.575</td>\n",
       "      <td>65.2</td>\n",
       "      <td>4.0900</td>\n",
       "      <td>1.0</td>\n",
       "      <td>296.0</td>\n",
       "      <td>15.3</td>\n",
       "      <td>396.90</td>\n",
       "      <td>4.98</td>\n",
       "      <td>24.0</td>\n",
       "    </tr>\n",
       "    <tr>\n",
       "      <th>1</th>\n",
       "      <td>0.02731</td>\n",
       "      <td>0.0</td>\n",
       "      <td>7.07</td>\n",
       "      <td>0.0</td>\n",
       "      <td>0.469</td>\n",
       "      <td>6.421</td>\n",
       "      <td>78.9</td>\n",
       "      <td>4.9671</td>\n",
       "      <td>2.0</td>\n",
       "      <td>242.0</td>\n",
       "      <td>17.8</td>\n",
       "      <td>396.90</td>\n",
       "      <td>9.14</td>\n",
       "      <td>21.6</td>\n",
       "    </tr>\n",
       "    <tr>\n",
       "      <th>2</th>\n",
       "      <td>0.02729</td>\n",
       "      <td>0.0</td>\n",
       "      <td>7.07</td>\n",
       "      <td>0.0</td>\n",
       "      <td>0.469</td>\n",
       "      <td>7.185</td>\n",
       "      <td>61.1</td>\n",
       "      <td>4.9671</td>\n",
       "      <td>2.0</td>\n",
       "      <td>242.0</td>\n",
       "      <td>17.8</td>\n",
       "      <td>392.83</td>\n",
       "      <td>4.03</td>\n",
       "      <td>34.7</td>\n",
       "    </tr>\n",
       "    <tr>\n",
       "      <th>3</th>\n",
       "      <td>0.03237</td>\n",
       "      <td>0.0</td>\n",
       "      <td>2.18</td>\n",
       "      <td>0.0</td>\n",
       "      <td>0.458</td>\n",
       "      <td>6.998</td>\n",
       "      <td>45.8</td>\n",
       "      <td>6.0622</td>\n",
       "      <td>3.0</td>\n",
       "      <td>222.0</td>\n",
       "      <td>18.7</td>\n",
       "      <td>394.63</td>\n",
       "      <td>2.94</td>\n",
       "      <td>33.4</td>\n",
       "    </tr>\n",
       "    <tr>\n",
       "      <th>4</th>\n",
       "      <td>0.06905</td>\n",
       "      <td>0.0</td>\n",
       "      <td>2.18</td>\n",
       "      <td>0.0</td>\n",
       "      <td>0.458</td>\n",
       "      <td>7.147</td>\n",
       "      <td>54.2</td>\n",
       "      <td>6.0622</td>\n",
       "      <td>3.0</td>\n",
       "      <td>222.0</td>\n",
       "      <td>18.7</td>\n",
       "      <td>396.90</td>\n",
       "      <td>5.33</td>\n",
       "      <td>36.2</td>\n",
       "    </tr>\n",
       "  </tbody>\n",
       "</table>\n",
       "</div>"
      ],
      "text/plain": [
       "      CRIM    ZN  INDUS  CHAS    NOX     RM   AGE     DIS  RAD    TAX  \\\n",
       "0  0.00632  18.0   2.31   0.0  0.538  6.575  65.2  4.0900  1.0  296.0   \n",
       "1  0.02731   0.0   7.07   0.0  0.469  6.421  78.9  4.9671  2.0  242.0   \n",
       "2  0.02729   0.0   7.07   0.0  0.469  7.185  61.1  4.9671  2.0  242.0   \n",
       "3  0.03237   0.0   2.18   0.0  0.458  6.998  45.8  6.0622  3.0  222.0   \n",
       "4  0.06905   0.0   2.18   0.0  0.458  7.147  54.2  6.0622  3.0  222.0   \n",
       "\n",
       "   PTRATIO       B  LSTAT  MEDV  \n",
       "0     15.3  396.90   4.98  24.0  \n",
       "1     17.8  396.90   9.14  21.6  \n",
       "2     17.8  392.83   4.03  34.7  \n",
       "3     18.7  394.63   2.94  33.4  \n",
       "4     18.7  396.90   5.33  36.2  "
      ]
     },
     "execution_count": 2,
     "metadata": {},
     "output_type": "execute_result"
    }
   ],
   "source": [
    "# load dataset\n",
    "from sklearn.datasets import load_boston\n",
    "boston_dataset = load_boston()\n",
    "df = pd.DataFrame(boston_dataset.data, columns=boston_dataset.feature_names)\n",
    "df['MEDV'] = boston_dataset.target\n",
    "print(df.shape)\n",
    "df.head()"
   ]
  },
  {
   "cell_type": "markdown",
   "metadata": {
    "colab_type": "text",
    "id": "Pm7zow5IvaTt"
   },
   "source": [
    "## Normalizing Input Data\n",
    "\n",
    "It's not 100% necessary to normalize/scale your input data before feeding it to a neural network, the network can learn the appropriate weights to deal with data of as long as it is numerically represented,  but it is recommended as it can help **make training faster** and **reduces the chances that gradient descent might get stuck in a local optimum**.\n",
    "\n",
    "<https://stackoverflow.com/questions/4674623/why-do-we-have-to-normalize-the-input-for-an-artificial-neural-network>"
   ]
  },
  {
   "cell_type": "code",
   "execution_count": 3,
   "metadata": {
    "colab": {
     "base_uri": "https://localhost:8080/",
     "height": 235
    },
    "colab_type": "code",
    "id": "q5qDpUj9vZVw",
    "outputId": "ce27017a-b173-455d-954e-d462e17e66f4"
   },
   "outputs": [
    {
     "name": "stdout",
     "output_type": "stream",
     "text": [
      "[[-0.41978194  0.28482986 -1.2879095  ... -1.45900038  0.44105193\n",
      "  -1.0755623 ]\n",
      " [-0.41733926 -0.48772236 -0.59338101 ... -0.30309415  0.44105193\n",
      "  -0.49243937]\n",
      " [-0.41734159 -0.48772236 -0.59338101 ... -0.30309415  0.39642699\n",
      "  -1.2087274 ]\n",
      " ...\n",
      " [-0.41344658 -0.48772236  0.11573841 ...  1.17646583  0.44105193\n",
      "  -0.98304761]\n",
      " [-0.40776407 -0.48772236  0.11573841 ...  1.17646583  0.4032249\n",
      "  -0.86530163]\n",
      " [-0.41500016 -0.48772236  0.11573841 ...  1.17646583  0.44105193\n",
      "  -0.66905833]]\n"
     ]
    }
   ],
   "source": [
    "from sklearn.preprocessing import StandardScaler\n",
    "\n",
    "# Split into X and y and turn into numpy arays\n",
    "y = df.MEDV.values\n",
    "X = df.drop(\"MEDV\", axis='columns').values\n",
    "\n",
    "# Scale input data\n",
    "scaler = StandardScaler()\n",
    "X = scaler.fit_transform(X)\n",
    "print(X)"
   ]
  },
  {
   "cell_type": "markdown",
   "metadata": {
    "colab_type": "text",
    "id": "l6hgCWbir90R"
   },
   "source": [
    "## Model Validation using an automatic verification Dataset\n",
    "\n",
    "Instead of doing a train test split, Keras has a really nice feature that you can set the validation.split argument when fitting your model and Keras will take that portion of your test data and use it as a validation dataset. "
   ]
  },
  {
   "cell_type": "code",
   "execution_count": 4,
   "metadata": {
    "colab": {
     "base_uri": "https://localhost:8080/",
     "height": 1750
    },
    "colab_type": "code",
    "id": "GMXVfmzXp1Oo",
    "outputId": "b05e251e-508f-46e6-865b-f869ae2a5dc4"
   },
   "outputs": [
    {
     "name": "stdout",
     "output_type": "stream",
     "text": [
      "WARNING:tensorflow:From /anaconda3/envs/U4-S2-NNF/lib/python3.7/site-packages/tensorflow/python/framework/op_def_library.py:263: colocate_with (from tensorflow.python.framework.ops) is deprecated and will be removed in a future version.\n",
      "Instructions for updating:\n",
      "Colocations handled automatically by placer.\n",
      "WARNING:tensorflow:From /anaconda3/envs/U4-S2-NNF/lib/python3.7/site-packages/tensorflow/python/ops/math_ops.py:3066: to_int32 (from tensorflow.python.ops.math_ops) is deprecated and will be removed in a future version.\n",
      "Instructions for updating:\n",
      "Use tf.cast instead.\n",
      "Train on 339 samples, validate on 167 samples\n",
      "Epoch 1/50\n",
      "339/339 [==============================] - 2s 6ms/step - loss: 658.7518 - mean_squared_error: 658.7518 - val_loss: 284.8011 - val_mean_squared_error: 284.8011\n",
      "Epoch 2/50\n",
      "339/339 [==============================] - 0s 356us/step - loss: 442.8397 - mean_squared_error: 442.8397 - val_loss: 176.3278 - val_mean_squared_error: 176.3278\n",
      "Epoch 3/50\n",
      "339/339 [==============================] - 0s 314us/step - loss: 124.2125 - mean_squared_error: 124.2125 - val_loss: 119.6675 - val_mean_squared_error: 119.6675\n",
      "Epoch 4/50\n",
      "339/339 [==============================] - 0s 360us/step - loss: 34.2988 - mean_squared_error: 34.2988 - val_loss: 93.7793 - val_mean_squared_error: 93.7793\n",
      "Epoch 5/50\n",
      "339/339 [==============================] - 0s 354us/step - loss: 18.4965 - mean_squared_error: 18.4965 - val_loss: 89.2565 - val_mean_squared_error: 89.2565\n",
      "Epoch 6/50\n",
      "339/339 [==============================] - 0s 352us/step - loss: 14.8721 - mean_squared_error: 14.8721 - val_loss: 89.9824 - val_mean_squared_error: 89.9824\n",
      "Epoch 7/50\n",
      "339/339 [==============================] - 0s 373us/step - loss: 12.9262 - mean_squared_error: 12.9262 - val_loss: 84.4650 - val_mean_squared_error: 84.4650\n",
      "Epoch 8/50\n",
      "339/339 [==============================] - 0s 393us/step - loss: 11.9329 - mean_squared_error: 11.9329 - val_loss: 80.0013 - val_mean_squared_error: 80.0013\n",
      "Epoch 9/50\n",
      "339/339 [==============================] - 0s 361us/step - loss: 11.1520 - mean_squared_error: 11.1520 - val_loss: 76.1319 - val_mean_squared_error: 76.1319\n",
      "Epoch 10/50\n",
      "339/339 [==============================] - 0s 350us/step - loss: 10.5925 - mean_squared_error: 10.5925 - val_loss: 74.0819 - val_mean_squared_error: 74.0819\n",
      "Epoch 11/50\n",
      "339/339 [==============================] - 0s 352us/step - loss: 10.2787 - mean_squared_error: 10.2787 - val_loss: 70.0550 - val_mean_squared_error: 70.0550\n",
      "Epoch 12/50\n",
      "339/339 [==============================] - 0s 349us/step - loss: 9.4476 - mean_squared_error: 9.4476 - val_loss: 67.2511 - val_mean_squared_error: 67.2511\n",
      "Epoch 13/50\n",
      "339/339 [==============================] - 0s 348us/step - loss: 8.9666 - mean_squared_error: 8.9666 - val_loss: 64.0926 - val_mean_squared_error: 64.0926\n",
      "Epoch 14/50\n",
      "339/339 [==============================] - 0s 361us/step - loss: 8.5550 - mean_squared_error: 8.5550 - val_loss: 62.8053 - val_mean_squared_error: 62.8053\n",
      "Epoch 15/50\n",
      "339/339 [==============================] - 0s 370us/step - loss: 8.1472 - mean_squared_error: 8.1472 - val_loss: 60.2446 - val_mean_squared_error: 60.2446\n",
      "Epoch 16/50\n",
      "339/339 [==============================] - 0s 373us/step - loss: 7.8988 - mean_squared_error: 7.8988 - val_loss: 58.6941 - val_mean_squared_error: 58.6941\n",
      "Epoch 17/50\n",
      "339/339 [==============================] - 0s 399us/step - loss: 7.6709 - mean_squared_error: 7.6709 - val_loss: 56.9294 - val_mean_squared_error: 56.9294\n",
      "Epoch 18/50\n",
      "339/339 [==============================] - 0s 356us/step - loss: 7.4158 - mean_squared_error: 7.4158 - val_loss: 55.6437 - val_mean_squared_error: 55.6437\n",
      "Epoch 19/50\n",
      "339/339 [==============================] - 0s 359us/step - loss: 7.0903 - mean_squared_error: 7.0903 - val_loss: 53.3963 - val_mean_squared_error: 53.3963\n",
      "Epoch 20/50\n",
      "339/339 [==============================] - 0s 376us/step - loss: 6.8284 - mean_squared_error: 6.8284 - val_loss: 51.1028 - val_mean_squared_error: 51.1028\n",
      "Epoch 21/50\n",
      "339/339 [==============================] - 0s 399us/step - loss: 6.6755 - mean_squared_error: 6.6755 - val_loss: 50.2527 - val_mean_squared_error: 50.2527\n",
      "Epoch 22/50\n",
      "339/339 [==============================] - 0s 346us/step - loss: 6.5755 - mean_squared_error: 6.5755 - val_loss: 48.0704 - val_mean_squared_error: 48.0704\n",
      "Epoch 23/50\n",
      "339/339 [==============================] - 0s 427us/step - loss: 6.3445 - mean_squared_error: 6.3445 - val_loss: 47.4929 - val_mean_squared_error: 47.4929\n",
      "Epoch 24/50\n",
      "339/339 [==============================] - 0s 437us/step - loss: 6.3311 - mean_squared_error: 6.3311 - val_loss: 47.2976 - val_mean_squared_error: 47.2976\n",
      "Epoch 25/50\n",
      "339/339 [==============================] - 0s 457us/step - loss: 5.9252 - mean_squared_error: 5.9252 - val_loss: 44.6815 - val_mean_squared_error: 44.6815\n",
      "Epoch 26/50\n",
      "339/339 [==============================] - 0s 420us/step - loss: 5.8360 - mean_squared_error: 5.8360 - val_loss: 44.6216 - val_mean_squared_error: 44.6216\n",
      "Epoch 27/50\n",
      "339/339 [==============================] - 0s 397us/step - loss: 5.7154 - mean_squared_error: 5.7154 - val_loss: 43.1437 - val_mean_squared_error: 43.1437\n",
      "Epoch 28/50\n",
      "339/339 [==============================] - 0s 360us/step - loss: 5.5746 - mean_squared_error: 5.5746 - val_loss: 41.9217 - val_mean_squared_error: 41.9217\n",
      "Epoch 29/50\n",
      "339/339 [==============================] - 0s 353us/step - loss: 5.6117 - mean_squared_error: 5.6117 - val_loss: 41.8204 - val_mean_squared_error: 41.8204\n",
      "Epoch 30/50\n",
      "339/339 [==============================] - 0s 418us/step - loss: 5.4773 - mean_squared_error: 5.4773 - val_loss: 41.1065 - val_mean_squared_error: 41.1065\n",
      "Epoch 31/50\n",
      "339/339 [==============================] - 0s 420us/step - loss: 5.2602 - mean_squared_error: 5.2602 - val_loss: 40.2689 - val_mean_squared_error: 40.2689\n",
      "Epoch 32/50\n",
      "339/339 [==============================] - 0s 354us/step - loss: 5.3267 - mean_squared_error: 5.3267 - val_loss: 40.7004 - val_mean_squared_error: 40.7004\n",
      "Epoch 33/50\n",
      "339/339 [==============================] - 0s 393us/step - loss: 5.0845 - mean_squared_error: 5.0845 - val_loss: 39.2021 - val_mean_squared_error: 39.2021\n",
      "Epoch 34/50\n",
      "339/339 [==============================] - 0s 403us/step - loss: 5.1056 - mean_squared_error: 5.1056 - val_loss: 38.4236 - val_mean_squared_error: 38.4236\n",
      "Epoch 35/50\n",
      "339/339 [==============================] - 0s 436us/step - loss: 5.1418 - mean_squared_error: 5.1418 - val_loss: 38.9803 - val_mean_squared_error: 38.9803\n",
      "Epoch 36/50\n",
      "339/339 [==============================] - 0s 380us/step - loss: 4.7872 - mean_squared_error: 4.7872 - val_loss: 38.0303 - val_mean_squared_error: 38.0303\n",
      "Epoch 37/50\n",
      "339/339 [==============================] - 0s 396us/step - loss: 4.8367 - mean_squared_error: 4.8367 - val_loss: 38.1602 - val_mean_squared_error: 38.1602\n",
      "Epoch 38/50\n",
      "339/339 [==============================] - 0s 382us/step - loss: 4.6703 - mean_squared_error: 4.6703 - val_loss: 37.0088 - val_mean_squared_error: 37.0088\n",
      "Epoch 39/50\n",
      "339/339 [==============================] - 0s 369us/step - loss: 4.7231 - mean_squared_error: 4.7231 - val_loss: 37.0069 - val_mean_squared_error: 37.0069\n",
      "Epoch 40/50\n",
      "339/339 [==============================] - 0s 401us/step - loss: 4.6139 - mean_squared_error: 4.6139 - val_loss: 36.4673 - val_mean_squared_error: 36.4673\n",
      "Epoch 41/50\n",
      "339/339 [==============================] - 0s 399us/step - loss: 4.6219 - mean_squared_error: 4.6219 - val_loss: 37.0501 - val_mean_squared_error: 37.0501\n",
      "Epoch 42/50\n",
      "339/339 [==============================] - 0s 424us/step - loss: 4.4407 - mean_squared_error: 4.4407 - val_loss: 36.5277 - val_mean_squared_error: 36.5277\n",
      "Epoch 43/50\n",
      "339/339 [==============================] - 0s 358us/step - loss: 4.4394 - mean_squared_error: 4.4394 - val_loss: 36.3556 - val_mean_squared_error: 36.3556\n",
      "Epoch 44/50\n",
      "339/339 [==============================] - 0s 384us/step - loss: 4.9758 - mean_squared_error: 4.9758 - val_loss: 35.5098 - val_mean_squared_error: 35.5098\n",
      "Epoch 45/50\n",
      "339/339 [==============================] - 0s 443us/step - loss: 4.4514 - mean_squared_error: 4.4514 - val_loss: 36.0171 - val_mean_squared_error: 36.0171\n",
      "Epoch 46/50\n",
      "339/339 [==============================] - 0s 386us/step - loss: 4.3051 - mean_squared_error: 4.3051 - val_loss: 36.0590 - val_mean_squared_error: 36.0590\n",
      "Epoch 47/50\n",
      "339/339 [==============================] - 0s 417us/step - loss: 4.2116 - mean_squared_error: 4.2116 - val_loss: 36.1044 - val_mean_squared_error: 36.1044\n",
      "Epoch 48/50\n",
      "339/339 [==============================] - 0s 416us/step - loss: 4.2544 - mean_squared_error: 4.2544 - val_loss: 35.7062 - val_mean_squared_error: 35.7062\n",
      "Epoch 49/50\n",
      "339/339 [==============================] - 0s 397us/step - loss: 4.1885 - mean_squared_error: 4.1885 - val_loss: 35.1131 - val_mean_squared_error: 35.1131\n",
      "Epoch 50/50\n",
      "339/339 [==============================] - 0s 418us/step - loss: 4.1772 - mean_squared_error: 4.1772 - val_loss: 35.5306 - val_mean_squared_error: 35.5306\n"
     ]
    },
    {
     "data": {
      "text/plain": [
       "<keras.callbacks.History at 0x1a3751fa20>"
      ]
     },
     "execution_count": 4,
     "metadata": {},
     "output_type": "execute_result"
    }
   ],
   "source": [
    "# Important Hyperparameters\n",
    "inputs = X.shape[1]\n",
    "epochs = 50\n",
    "batch_size = 10\n",
    "\n",
    "# Create Model\n",
    "model = Sequential()\n",
    "model.add(Dense(64, activation='relu', input_shape=(inputs,)))\n",
    "model.add(Dense(64, activation='relu'))\n",
    "model.add(Dense(1))\n",
    "# Compile Model\n",
    "model.compile(optimizer='adam', loss='mse', metrics=['mse'])\n",
    "# Fit Model\n",
    "model.fit(X, y, validation_split=0.33, epochs=epochs, batch_size=batch_size)"
   ]
  },
  {
   "cell_type": "markdown",
   "metadata": {
    "colab_type": "text",
    "id": "FYgb6yiKzyK5"
   },
   "source": [
    "## Model Verification using a Manual Verification Dataset\n",
    "\n",
    "Even though Keras has this nice feature you can still do train test split and pass it both X_test and y_test datasets as a tuple using the `validation_data` parameter."
   ]
  },
  {
   "cell_type": "code",
   "execution_count": 46,
   "metadata": {
    "colab": {
     "base_uri": "https://localhost:8080/",
     "height": 1750
    },
    "colab_type": "code",
    "id": "D6SenwGVzQlK",
    "outputId": "ccab02a8-f28f-4db9-9065-89b52b177266"
   },
   "outputs": [
    {
     "name": "stdout",
     "output_type": "stream",
     "text": [
      "Train on 339 samples, validate on 167 samples\n",
      "Epoch 1/50\n",
      "339/339 [==============================] - 2s 5ms/step - loss: 519.5352 - mean_squared_error: 519.5352 - val_loss: 366.0772 - val_mean_squared_error: 366.0772\n",
      "Epoch 2/50\n",
      "339/339 [==============================] - 0s 229us/step - loss: 315.2899 - mean_squared_error: 315.2899 - val_loss: 177.2967 - val_mean_squared_error: 177.2967\n",
      "Epoch 3/50\n",
      "339/339 [==============================] - 0s 215us/step - loss: 123.5674 - mean_squared_error: 123.5674 - val_loss: 63.0259 - val_mean_squared_error: 63.0259\n",
      "Epoch 4/50\n",
      "339/339 [==============================] - 0s 196us/step - loss: 50.6045 - mean_squared_error: 50.6045 - val_loss: 36.2409 - val_mean_squared_error: 36.2409\n",
      "Epoch 5/50\n",
      "339/339 [==============================] - 0s 222us/step - loss: 32.1189 - mean_squared_error: 32.1189 - val_loss: 26.2816 - val_mean_squared_error: 26.2816\n",
      "Epoch 6/50\n",
      "339/339 [==============================] - 0s 240us/step - loss: 25.3842 - mean_squared_error: 25.3842 - val_loss: 20.8622 - val_mean_squared_error: 20.8622\n",
      "Epoch 7/50\n",
      "339/339 [==============================] - 0s 238us/step - loss: 21.9990 - mean_squared_error: 21.9990 - val_loss: 19.3011 - val_mean_squared_error: 19.3011\n",
      "Epoch 8/50\n",
      "339/339 [==============================] - 0s 252us/step - loss: 20.0305 - mean_squared_error: 20.0305 - val_loss: 17.6948 - val_mean_squared_error: 17.6948\n",
      "Epoch 9/50\n",
      "339/339 [==============================] - 0s 253us/step - loss: 18.3750 - mean_squared_error: 18.3750 - val_loss: 16.4973 - val_mean_squared_error: 16.4973\n",
      "Epoch 10/50\n",
      "339/339 [==============================] - 0s 192us/step - loss: 17.3172 - mean_squared_error: 17.3172 - val_loss: 15.6139 - val_mean_squared_error: 15.6139\n",
      "Epoch 11/50\n",
      "339/339 [==============================] - 0s 237us/step - loss: 16.3760 - mean_squared_error: 16.3760 - val_loss: 15.5449 - val_mean_squared_error: 15.5449\n",
      "Epoch 12/50\n",
      "339/339 [==============================] - 0s 234us/step - loss: 15.7593 - mean_squared_error: 15.7593 - val_loss: 14.4127 - val_mean_squared_error: 14.4127\n",
      "Epoch 13/50\n",
      "339/339 [==============================] - 0s 198us/step - loss: 15.1515 - mean_squared_error: 15.1515 - val_loss: 14.0431 - val_mean_squared_error: 14.0431\n",
      "Epoch 14/50\n",
      "339/339 [==============================] - 0s 194us/step - loss: 14.5555 - mean_squared_error: 14.5555 - val_loss: 13.7017 - val_mean_squared_error: 13.7017\n",
      "Epoch 15/50\n",
      "339/339 [==============================] - 0s 218us/step - loss: 14.1714 - mean_squared_error: 14.1714 - val_loss: 13.6535 - val_mean_squared_error: 13.6535\n",
      "Epoch 16/50\n",
      "339/339 [==============================] - 0s 216us/step - loss: 13.7844 - mean_squared_error: 13.7844 - val_loss: 12.9778 - val_mean_squared_error: 12.9778\n",
      "Epoch 17/50\n",
      "339/339 [==============================] - 0s 198us/step - loss: 13.0695 - mean_squared_error: 13.0695 - val_loss: 12.7553 - val_mean_squared_error: 12.7553\n",
      "Epoch 18/50\n",
      "339/339 [==============================] - 0s 199us/step - loss: 13.0201 - mean_squared_error: 13.0201 - val_loss: 12.5883 - val_mean_squared_error: 12.5883\n",
      "Epoch 19/50\n",
      "339/339 [==============================] - 0s 207us/step - loss: 12.8353 - mean_squared_error: 12.8353 - val_loss: 12.4544 - val_mean_squared_error: 12.4544\n",
      "Epoch 20/50\n",
      "339/339 [==============================] - 0s 229us/step - loss: 12.1304 - mean_squared_error: 12.1304 - val_loss: 12.7718 - val_mean_squared_error: 12.7718\n",
      "Epoch 21/50\n",
      "339/339 [==============================] - 0s 234us/step - loss: 12.1542 - mean_squared_error: 12.1542 - val_loss: 13.1070 - val_mean_squared_error: 13.1070\n",
      "Epoch 22/50\n",
      "339/339 [==============================] - 0s 207us/step - loss: 11.9670 - mean_squared_error: 11.9670 - val_loss: 11.7280 - val_mean_squared_error: 11.7280\n",
      "Epoch 23/50\n",
      "339/339 [==============================] - 0s 203us/step - loss: 11.4651 - mean_squared_error: 11.4651 - val_loss: 13.1279 - val_mean_squared_error: 13.1279\n",
      "Epoch 24/50\n",
      "339/339 [==============================] - 0s 222us/step - loss: 11.4169 - mean_squared_error: 11.4169 - val_loss: 12.1335 - val_mean_squared_error: 12.1335\n",
      "Epoch 25/50\n",
      "339/339 [==============================] - 0s 197us/step - loss: 10.9513 - mean_squared_error: 10.9513 - val_loss: 13.2305 - val_mean_squared_error: 13.2305\n",
      "Epoch 26/50\n",
      "339/339 [==============================] - 0s 216us/step - loss: 10.9079 - mean_squared_error: 10.9079 - val_loss: 11.3935 - val_mean_squared_error: 11.3935\n",
      "Epoch 27/50\n",
      "339/339 [==============================] - 0s 243us/step - loss: 10.7922 - mean_squared_error: 10.7922 - val_loss: 12.1651 - val_mean_squared_error: 12.1651\n",
      "Epoch 28/50\n",
      "339/339 [==============================] - 0s 197us/step - loss: 10.4847 - mean_squared_error: 10.4847 - val_loss: 11.0973 - val_mean_squared_error: 11.0973\n",
      "Epoch 29/50\n",
      "339/339 [==============================] - 0s 200us/step - loss: 10.3717 - mean_squared_error: 10.3717 - val_loss: 11.7882 - val_mean_squared_error: 11.7882\n",
      "Epoch 30/50\n",
      "339/339 [==============================] - 0s 218us/step - loss: 10.1397 - mean_squared_error: 10.1397 - val_loss: 12.6304 - val_mean_squared_error: 12.6304\n",
      "Epoch 31/50\n",
      "339/339 [==============================] - 0s 203us/step - loss: 10.0165 - mean_squared_error: 10.0165 - val_loss: 11.1068 - val_mean_squared_error: 11.1068\n",
      "Epoch 32/50\n",
      "339/339 [==============================] - 0s 212us/step - loss: 9.9835 - mean_squared_error: 9.9835 - val_loss: 10.9607 - val_mean_squared_error: 10.9607\n",
      "Epoch 33/50\n",
      "339/339 [==============================] - 0s 232us/step - loss: 9.6310 - mean_squared_error: 9.6310 - val_loss: 10.7021 - val_mean_squared_error: 10.7021\n",
      "Epoch 34/50\n",
      "339/339 [==============================] - 0s 222us/step - loss: 9.5746 - mean_squared_error: 9.5746 - val_loss: 10.9628 - val_mean_squared_error: 10.9628\n",
      "Epoch 35/50\n",
      "339/339 [==============================] - 0s 198us/step - loss: 9.4983 - mean_squared_error: 9.4983 - val_loss: 11.1887 - val_mean_squared_error: 11.1887\n",
      "Epoch 36/50\n",
      "339/339 [==============================] - 0s 197us/step - loss: 9.1580 - mean_squared_error: 9.1580 - val_loss: 11.1813 - val_mean_squared_error: 11.1813\n",
      "Epoch 37/50\n",
      "339/339 [==============================] - 0s 219us/step - loss: 9.0131 - mean_squared_error: 9.0131 - val_loss: 10.6148 - val_mean_squared_error: 10.6148\n",
      "Epoch 38/50\n",
      "339/339 [==============================] - 0s 220us/step - loss: 9.2916 - mean_squared_error: 9.2916 - val_loss: 10.6815 - val_mean_squared_error: 10.6815\n",
      "Epoch 39/50\n",
      "339/339 [==============================] - 0s 209us/step - loss: 8.8379 - mean_squared_error: 8.8379 - val_loss: 10.6538 - val_mean_squared_error: 10.6538\n",
      "Epoch 40/50\n",
      "339/339 [==============================] - 0s 228us/step - loss: 8.7351 - mean_squared_error: 8.7351 - val_loss: 10.4827 - val_mean_squared_error: 10.4827\n",
      "Epoch 41/50\n",
      "339/339 [==============================] - 0s 199us/step - loss: 8.7140 - mean_squared_error: 8.7140 - val_loss: 10.5229 - val_mean_squared_error: 10.5229\n",
      "Epoch 42/50\n",
      "339/339 [==============================] - 0s 197us/step - loss: 8.7191 - mean_squared_error: 8.7191 - val_loss: 10.8861 - val_mean_squared_error: 10.8861\n",
      "Epoch 43/50\n",
      "339/339 [==============================] - 0s 194us/step - loss: 8.5090 - mean_squared_error: 8.5090 - val_loss: 10.9600 - val_mean_squared_error: 10.9600\n",
      "Epoch 44/50\n",
      "339/339 [==============================] - 0s 208us/step - loss: 8.3550 - mean_squared_error: 8.3550 - val_loss: 10.8626 - val_mean_squared_error: 10.8626\n",
      "Epoch 45/50\n",
      "339/339 [==============================] - 0s 204us/step - loss: 8.4257 - mean_squared_error: 8.4257 - val_loss: 11.0991 - val_mean_squared_error: 11.0991\n",
      "Epoch 46/50\n",
      "339/339 [==============================] - 0s 198us/step - loss: 8.2556 - mean_squared_error: 8.2556 - val_loss: 10.9143 - val_mean_squared_error: 10.9143\n",
      "Epoch 47/50\n",
      "339/339 [==============================] - 0s 223us/step - loss: 8.0362 - mean_squared_error: 8.0362 - val_loss: 10.7430 - val_mean_squared_error: 10.7430\n",
      "Epoch 48/50\n",
      "339/339 [==============================] - 0s 206us/step - loss: 8.1245 - mean_squared_error: 8.1245 - val_loss: 10.5802 - val_mean_squared_error: 10.5802\n",
      "Epoch 49/50\n",
      "339/339 [==============================] - 0s 200us/step - loss: 7.8410 - mean_squared_error: 7.8410 - val_loss: 10.4785 - val_mean_squared_error: 10.4785\n",
      "Epoch 50/50\n",
      "339/339 [==============================] - 0s 195us/step - loss: 7.7097 - mean_squared_error: 7.7097 - val_loss: 10.6820 - val_mean_squared_error: 10.6820\n"
     ]
    },
    {
     "data": {
      "text/plain": [
       "<keras.callbacks.History at 0x7f7f13edf6a0>"
      ]
     },
     "execution_count": 46,
     "metadata": {
      "tags": []
     },
     "output_type": "execute_result"
    }
   ],
   "source": [
    "from sklearn.datasets import load_boston\n",
    "from sklearn.model_selection import train_test_split\n",
    "\n",
    "# Random Seed\n",
    "seed = 42\n",
    "numpy.random.seed(seed)\n",
    "\n",
    "# Load Dataset\n",
    "boston_dataset = load_boston()\n",
    "df = pd.DataFrame(boston_dataset.data, columns=boston_dataset.feature_names)\n",
    "df['MEDV'] = boston_dataset.target\n",
    "\n",
    "# Split into X and y and turn into numpy arays\n",
    "y = df.MEDV.values\n",
    "X = df.drop(\"MEDV\", axis='columns').values\n",
    "\n",
    "# Scale inputs\n",
    "scaler = StandardScaler()\n",
    "X = scaler.fit_transform(X)\n",
    "\n",
    "# Manual Validation Dataset\n",
    "X_train, X_test, y_train, y_test = train_test_split(X, y, test_size=0.33, random_state=seed)\n",
    "\n",
    "# Important Hyperparameters\n",
    "inputs = X.shape[1]\n",
    "epochs = 50\n",
    "batch_size = 10\n",
    "\n",
    "# Create Model\n",
    "model = Sequential()\n",
    "model.add(Dense(64, activation='relu', input_shape=(inputs,)))\n",
    "model.add(Dense(64, activation='relu'))\n",
    "model.add(Dense(1))\n",
    "# Compile Model\n",
    "model.compile(optimizer='rmsprop', loss='mse', metrics=['mse'])\n",
    "# Fit Model\n",
    "model.fit(X_train, y_train, validation_data=(X_test, y_test), epochs=epochs, batch_size=batch_size)\n"
   ]
  },
  {
   "cell_type": "markdown",
   "metadata": {
    "colab_type": "text",
    "id": "k3FOE1vxx7yn"
   },
   "source": [
    "## Manual K-fold Cross Validation (regression)\n",
    "\n",
    "K-fold Cross Validation is the best way to validate your model as it will reduce the variance of your overall accuracy measure by splitting the data into smaller cross validation batches using one of the split out datasets as the validation dataset. The model is then fit K times rotating the validation set until each portion of the data has served as the validation dataset, the accuracy results from each subset are then averaged and reported as the overall test accuracy. The upside is that you can be more confident in your model's final reported accuracy. The downside is that you have to train your model K times which is computationally expensive and just not pheasible for some large networks that can take days to train a single time.\n",
    "\n",
    "K-fold Cross Validation gets tricky if you want to standardize your data because you will have to standardize your X values for each fold of your model separately. Due to this, we're going to use a Scikit-Learn Pipeline to help us do this for each fold of our dataset. \n",
    "\n",
    "Also, it's weird, but cross_val_score returns MSE values as negative values:\n",
    "<https://github.com/scikit-learn/scikit-learn/issues/2439>"
   ]
  },
  {
   "cell_type": "code",
   "execution_count": 5,
   "metadata": {
    "colab": {
     "base_uri": "https://localhost:8080/",
     "height": 34
    },
    "colab_type": "code",
    "id": "OnIHhAYV3Xt-",
    "outputId": "ad8afa5d-740f-4988-8b34-7bf3966e2c5a"
   },
   "outputs": [
    {
     "name": "stdout",
     "output_type": "stream",
     "text": [
      "K-fold Cross-Val Results - Mean: 24.80 StDev: 13.63 MSE\n"
     ]
    }
   ],
   "source": [
    "# Keras imports\n",
    "from keras.models import Sequential\n",
    "from keras.layers import Dense\n",
    "from keras.wrappers.scikit_learn import KerasRegressor\n",
    "# sklearn imports\n",
    "from sklearn.datasets import load_boston\n",
    "from sklearn.model_selection import cross_val_score\n",
    "from sklearn.model_selection import KFold\n",
    "from sklearn.preprocessing import StandardScaler\n",
    "from sklearn.pipeline import Pipeline\n",
    "\n",
    "# Random Seed\n",
    "seed = 42\n",
    "numpy.random.seed(seed)\n",
    "\n",
    "# Load Dataset\n",
    "boston_dataset = load_boston()\n",
    "df = pd.DataFrame(boston_dataset.data, columns=boston_dataset.feature_names)\n",
    "df['MEDV'] = boston_dataset.target\n",
    "\n",
    "# Split into X and y and turn into numpy arays\n",
    "y = df.MEDV.values\n",
    "X = df.drop(\"MEDV\", axis='columns').values\n",
    "\n",
    "# Important Hyperparameters\n",
    "inputs = X.shape[1]\n",
    "epochs = 50\n",
    "batch_size = 10\n",
    "\n",
    "# define base model\n",
    "def baseline_model():\n",
    "  # create model\n",
    "  model = Sequential()\n",
    "  model.add(Dense(64, input_dim=inputs, activation='relu')) \n",
    "  model.add(Dense(64, activation='relu')) \n",
    "  model.add(Dense(1))\n",
    "  # Compile model\n",
    "  model.compile(loss='mean_squared_error', optimizer='adam')\n",
    "  return model\n",
    "\n",
    "# evaluate model with standardized dataset\n",
    "estimators = []\n",
    "estimators.append(('standardize', StandardScaler()))\n",
    "estimators.append(('mlp', KerasRegressor(build_fn=baseline_model, epochs=epochs, batch_size=batch_size,\n",
    "    verbose=0)))\n",
    "pipeline = Pipeline(estimators)\n",
    "kfold = KFold(n_splits=5, random_state=seed)\n",
    "results = cross_val_score(pipeline, X, y, cv=kfold)\n",
    "print(f\"K-fold Cross-Val Results - Mean: {-results.mean():.2f} StDev: {results.std():.2f} MSE\")"
   ]
  },
  {
   "cell_type": "markdown",
   "metadata": {
    "colab_type": "text",
    "id": "N95xwMJw-5Di"
   },
   "source": [
    "## Manual K-fold Cross Validation (classification)"
   ]
  },
  {
   "cell_type": "code",
   "execution_count": 6,
   "metadata": {
    "colab": {
     "base_uri": "https://localhost:8080/",
     "height": 107,
     "resources": {
      "http://localhost:8080/nbextensions/google.colab/files.js": {
       "data": "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",
       "headers": [
        [
         "content-type",
         "application/javascript"
        ]
       ],
       "ok": true,
       "status": 200,
       "status_text": ""
      }
     }
    },
    "colab_type": "code",
    "id": "722BauYV_4Y4",
    "outputId": "bb1b35fa-4e14-4a4d-cd90-a02a03158ef6"
   },
   "outputs": [],
   "source": [
    "import pandas as pd\n",
    "\n",
    "df = pd.read_csv('https://raw.githubusercontent.com/ryanleeallred/datasets/master/diabetes.csv')"
   ]
  },
  {
   "cell_type": "code",
   "execution_count": 12,
   "metadata": {},
   "outputs": [],
   "source": [
    "data = df.values"
   ]
  },
  {
   "cell_type": "code",
   "execution_count": 13,
   "metadata": {
    "colab": {
     "base_uri": "https://localhost:8080/",
     "height": 118
    },
    "colab_type": "code",
    "id": "4YNTT4Tm6E0W",
    "outputId": "0c4bcbb5-a831-42f4-ddf1-1d0ee47769b8"
   },
   "outputs": [
    {
     "name": "stdout",
     "output_type": "stream",
     "text": [
      "acc: 64.94%\n",
      "acc: 72.73%\n",
      "acc: 68.18%\n",
      "acc: 69.93%\n",
      "acc: 69.93%\n",
      "69.14% +/- 2.56%\n"
     ]
    }
   ],
   "source": [
    "# MLP for Pima Indians Dataset with 10-fold cross validation\n",
    "from keras.models import Sequential\n",
    "from keras.layers import Dense\n",
    "from sklearn.model_selection import StratifiedKFold\n",
    "import numpy\n",
    "\n",
    "# fix random seed for reproducibility\n",
    "seed = 42\n",
    "numpy.random.seed(seed)\n",
    "\n",
    "# load pima indians dataset\n",
    "dataset = data\n",
    "\n",
    "# split into input (X) and output (Y) variables\n",
    "X = dataset[:,0:8]\n",
    "Y = dataset[:,8]\n",
    "\n",
    "# define 5-fold cross validation test harness\n",
    "kfold = StratifiedKFold(n_splits=5, shuffle=True, random_state=seed)\n",
    "cvscores = []\n",
    "for train, test in kfold.split(X, Y):\n",
    "  # create model\n",
    "  model = Sequential()\n",
    "  model.add(Dense(12, input_dim=8, activation='relu'))\n",
    "  model.add(Dense(8, activation='relu'))\n",
    "  model.add(Dense(1, activation='sigmoid'))\n",
    "  # Compile model\n",
    "  model.compile(loss='binary_crossentropy', optimizer='adam', metrics=['accuracy']) # Fit the model\n",
    "  model.fit(X[train], Y[train], epochs=50, batch_size=10, verbose=0)\n",
    "  # evaluate the model\n",
    "  scores = model.evaluate(X[test], Y[test], verbose=0)\n",
    "  print(f'{model.metrics_names[1]}: {(scores[1]*100):.2f}%') \n",
    "  cvscores.append(scores[1]*100)\n",
    "print(f'{numpy.mean(cvscores):.2f}% +/- {numpy.std(cvscores):.2f}%')"
   ]
  },
  {
   "cell_type": "markdown",
   "metadata": {
    "colab_type": "text",
    "id": "JILi3KJjAkfF"
   },
   "source": [
    "# Hyperparameter Tuning\n",
    "\n",
    "Hyperparameter tuning is much more important with neural networks than it has been with any other models that we have considered up to this point. Other supervised learning models might have a couple of parameters, but neural networks can have dozens. These can substantially affect the accuracy of our models and although it can be a time consuming process is a necessary step when working with neural networks.\n",
    "\n",
    "Hyperparameter tuning comes with a challenge. How can we compare models specified with different hyperparameters if our model's final error metric can vary somewhat erratically? How do we avoid just getting unlucky and selecting the wrong hyperparameter? This is a problem that to a certain degree we just have to live with as we test and test again. However, we can minimize it somewhat by pairing our experiments with Cross Validation to reduce the variance of our final accuracy values."
   ]
  },
  {
   "cell_type": "markdown",
   "metadata": {
    "colab_type": "text",
    "id": "sYJ8t_ezHP4W"
   },
   "source": [
    "## Hyperparameter Tuning Approaches:\n",
    "\n",
    "### 1) Babysitting AKA \"Grad Student Descent\".\n",
    "\n",
    "If you fiddled with any hyperparameters yesterday, this is basically what you did. This approach is 100% manual and is pretty common among researchers where finding that 1 exact specification that jumps your model to a level of accuracy never seen before is the difference between publishing and not publishing a paper. Of course the professors don't do this themselves, that's grunt work. This is also known as the fiddle with hyperparameters until you run out of time method.\n",
    "\n",
    "### 2) Grid Search\n",
    "\n",
    "Grid Search is the Grad Student galaxy brain realization of: why don't I just specify all the experiments I want to run and let the computer try every possible combination of them while I go and grab lunch. This has a specific downside in that if I specify 5 hyperparameters with 5 options each then I've just created 5^5 combinations of hyperparameters to check. Which means that I have to train 3125 different versions of my model Then if I use 5-fold Cross Validation on that then my model has to run 15,525 times. This is the brute-force method of hyperparameter tuning, but it can be very profitable if done wisely. \n",
    "\n",
    "When using Grid Search here's what I suggest: don't use it to test combinations of different hyperparameters, only use it to test different specifications of **a single** hyperparameter. It's rare that combinations between different hyperparameters lead to big performance gains. You'll get 90-95% of the way there if you just Grid Search one parameter and take the best result, then retain that best result while you test another, and then retain the best specification from that while you train another. This at least makes the situation much more manageable and leads to pretty good results. \n",
    "\n",
    "### 3) Random Search\n",
    "\n",
    "Do Grid Search for a couple of hours and you'll say to yourself - \"There's got to be a better way.\" Enter Random Search. For Random search you specify a hyperparameter space and it picks specifications from that randomly, tries them out, gives you the best results and says - That's going to have to be good enough, go home and spend time with your family. \n",
    "\n",
    "Grid Search treats every parameter as if it was equally important, but this just isn't the case, some are known to move the needle a lot more than others (we'll talk about that in a minute). Random Search allows searching to be specified along the most important parameter and experiments less along the dimensions of less important hyperparameters. The downside of Random search is that it won't find the absolute best hyperparameters, but it is much less costly to perform than Grid Search. \n",
    "\n",
    "### 4) Bayesian Methods\n",
    "\n",
    "One thing that can make more manual methods like babysitting and gridsearch effective is that as the experimenter sees results he can then make updates to his future searches taking into account the results of past specifications. If only we could hyperparameter tune our hyperparameter tuning. Well, we kind of can. Enter Bayesian Optimization. Neural Networks are like an optimization problem within an optimization problem, and Bayesian Optimization is a search strategy that tries to take into account the results of past searches in order to improve future ones. This is the most advanced method but can be a little bit tricky to implement. "
   ]
  },
  {
   "cell_type": "markdown",
   "metadata": {
    "colab_type": "text",
    "id": "HfQ7D043OMMn"
   },
   "source": [
    "## What Hyperparameters are there to test?\n",
    "\n",
    "- batch_size\n",
    "- training epochs\n",
    "- optimization algorithms\n",
    "- learning rate\n",
    "- momentum\n",
    "- activation functions\n",
    "- dropout regularization\n",
    "- number of neurons in the hidden layer\n",
    "\n",
    "There are more, but these are the most important."
   ]
  },
  {
   "cell_type": "markdown",
   "metadata": {
    "colab_type": "text",
    "id": "4Xl9c2VPPITI"
   },
   "source": [
    "## Creating a \"Test Harness\"\n",
    "\n",
    "You want it to be easy to specify different version of your model and for that model to undergo the same conditions every time with nothing different except for the hyperparameter(s) that you are testing. \n",
    "\n",
    "In order to do this we're going to use GridSearchCV from scikit learn to run our model with different hyperparameters and then report back to us the best one. In order to do this we have to wrap our model in either a KerasRegressor or KerasClassifier object to prepare it to work with Scikit-Learn. We also have to put our model specification within a function that we can call in order to generate it. This is required in order to use KerasRegressor or KerasClassifier"
   ]
  },
  {
   "cell_type": "markdown",
   "metadata": {
    "colab_type": "text",
    "id": "Mri5-kXzVKAa"
   },
   "source": [
    "## Batch Size\n",
    "\n",
    "Batch size determines how many observations the model is shown before it calculates loss/error and updates the model weights via gradient descent. You're looking for a sweet spot here where you're showing it enough observations that you have enough information to updates the weights, but not such a large batch size that you don't get a lot of weight update iterations performed in a given epoch. Feed-forward Neural Networks aren't as sensitive to bach_size as other networks, but it is still an important hyperparameter to tune. Smaller batch sizes will also take longer to train. "
   ]
  },
  {
   "cell_type": "code",
   "execution_count": 14,
   "metadata": {
    "colab": {
     "base_uri": "https://localhost:8080/",
     "height": 13561
    },
    "colab_type": "code",
    "id": "2smXfriNAGn7",
    "outputId": "ae996575-78e2-43fb-9dbe-5d44aaf0b430"
   },
   "outputs": [
    {
     "name": "stderr",
     "output_type": "stream",
     "text": [
      "/anaconda3/envs/U4-S2-NNF/lib/python3.7/site-packages/sklearn/model_selection/_split.py:1978: FutureWarning: The default value of cv will change from 3 to 5 in version 0.22. Specify it explicitly to silence this warning.\n",
      "  warnings.warn(CV_WARNING, FutureWarning)\n"
     ]
    },
    {
     "name": "stdout",
     "output_type": "stream",
     "text": [
      "Best: 0.6458333395421505 using {'batch_size': 80, 'epochs': 20}\n",
      "Means: 0.5585937505820766, Stdev: 0.1567699650226399 with: {'batch_size': 10, 'epochs': 20}\n",
      "Means: 0.6328125071401397, Stdev: 0.022326080285796936 with: {'batch_size': 20, 'epochs': 20}\n",
      "Means: 0.578125006519258, Stdev: 0.0813776063155395 with: {'batch_size': 40, 'epochs': 20}\n",
      "Means: 0.5234374987582365, Stdev: 0.14095014687850402 with: {'batch_size': 60, 'epochs': 20}\n",
      "Means: 0.6458333395421505, Stdev: 0.03194751191130953 with: {'batch_size': 80, 'epochs': 20}\n",
      "Means: 0.6289062459642688, Stdev: 0.058026767393729355 with: {'batch_size': 100, 'epochs': 20}\n"
     ]
    }
   ],
   "source": [
    "import numpy\n",
    "from sklearn.model_selection import GridSearchCV\n",
    "from keras.models import Sequential\n",
    "from keras.layers import Dense\n",
    "from keras.wrappers.scikit_learn import KerasClassifier\n",
    "\n",
    "# fix random seed for reproducibility\n",
    "seed = 7\n",
    "numpy.random.seed(seed)\n",
    "\n",
    "# load dataset\n",
    "dataset = data\n",
    "\n",
    "# split into input (X) and output (Y) variables\n",
    "X = dataset[:,0:8]\n",
    "Y = dataset[:,8]\n",
    "\n",
    "# Function to create model, required for KerasClassifier\n",
    "def create_model():\n",
    "\t# create model\n",
    "\tmodel = Sequential()\n",
    "\tmodel.add(Dense(12, input_dim=8, activation='relu'))\n",
    "\tmodel.add(Dense(1, activation='sigmoid'))\n",
    "\t# Compile model\n",
    "\tmodel.compile(loss='binary_crossentropy', optimizer='adam', metrics=['accuracy'])\n",
    "\treturn model\n",
    "\n",
    "# create model\n",
    "model = KerasClassifier(build_fn=create_model, verbose=0)\n",
    "\n",
    "# define the grid search parameters\n",
    "# batch_size = [10, 20, 40, 60, 80, 100]\n",
    "# param_grid = dict(batch_size=batch_size, epochs=epochs)\n",
    "\n",
    "# define the grid search parameters\n",
    "param_grid = {'batch_size': [10, 20, 40, 60, 80, 100],\n",
    "              'epochs': [20]}\n",
    "\n",
    "# Create Grid Search\n",
    "grid = GridSearchCV(estimator=model, param_grid=param_grid, n_jobs=1)\n",
    "grid_result = grid.fit(X, Y)\n",
    "\n",
    "# Report Results\n",
    "print(f\"Best: {grid_result.best_score_} using {grid_result.best_params_}\")\n",
    "means = grid_result.cv_results_['mean_test_score']\n",
    "stds = grid_result.cv_results_['std_test_score']\n",
    "params = grid_result.cv_results_['params']\n",
    "for mean, stdev, param in zip(means, stds, params):\n",
    "    print(f\"Means: {mean}, Stdev: {stdev} with: {param}\") "
   ]
  },
  {
   "cell_type": "markdown",
   "metadata": {
    "colab_type": "text",
    "id": "pmABfjlvXbqi"
   },
   "source": [
    "## Epochs\n",
    "\n",
    "The number of training epochs has a large and direct affect on the accuracy, However, more epochs is almost always goign to better than less epochs. This means that if you tune this parameter at the beginning and try and maintain the same value all throughout your training, you're going to be waiting a long time for each iteration of GridSearch. I suggest picking a fixed moderat # of epochs all throughout your training and then Grid Searching this parameter at the very end. "
   ]
  },
  {
   "cell_type": "code",
   "execution_count": 15,
   "metadata": {
    "colab": {
     "base_uri": "https://localhost:8080/",
     "height": 26329
    },
    "colab_type": "code",
    "id": "bAmxP3N7TmFh",
    "outputId": "3ddb08c4-51ac-4eaa-ff39-143397024544"
   },
   "outputs": [
    {
     "name": "stdout",
     "output_type": "stream",
     "text": [
      "Best: 0.6731770783662796 using {'batch_size': 80, 'epochs': 40}\n",
      "Means: 0.598958338300387, Stdev: 0.03737681948551463 with: {'batch_size': 60, 'epochs': 20}\n",
      "Means: 0.6549479126309355, Stdev: 0.04063667719759134 with: {'batch_size': 60, 'epochs': 40}\n",
      "Means: 0.6614583302289248, Stdev: 0.015072712050911716 with: {'batch_size': 60, 'epochs': 60}\n",
      "Means: 0.6341145808498064, Stdev: 0.03350177338259611 with: {'batch_size': 80, 'epochs': 20}\n",
      "Means: 0.6731770783662796, Stdev: 0.03194751570709734 with: {'batch_size': 80, 'epochs': 40}\n",
      "Means: 0.6458333333333334, Stdev: 0.046035597733499294 with: {'batch_size': 80, 'epochs': 60}\n"
     ]
    }
   ],
   "source": [
    "# define the grid search parameters\n",
    "param_grid = {'batch_size': [60, 80],\n",
    "              'epochs': [20, 40, 60]}\n",
    "\n",
    "# Create Grid Search\n",
    "grid = GridSearchCV(estimator=model, param_grid=param_grid, n_jobs=1)\n",
    "grid_result = grid.fit(X, Y)\n",
    "\n",
    "# Report Results\n",
    "print(f\"Best: {grid_result.best_score_} using {grid_result.best_params_}\")\n",
    "means = grid_result.cv_results_['mean_test_score']\n",
    "stds = grid_result.cv_results_['std_test_score']\n",
    "params = grid_result.cv_results_['params']\n",
    "for mean, stdev, param in zip(means, stds, params):\n",
    "    print(f\"Means: {mean}, Stdev: {stdev} with: {param}\")"
   ]
  },
  {
   "cell_type": "markdown",
   "metadata": {
    "colab_type": "text",
    "id": "EKcuY6OiaLfz"
   },
   "source": [
    "## Optimizer\n",
    "\n",
    "Remember that there's a different optimizers [optimizers](https://keras.io/optimizers/). At some point, take some time to read up on them a little bit. \"adam\" usually gives the best results. The thing to know about choosing an optimizer is that different optimizers have different hyperparameters like learning rate, momentum, etc. So based on the optimizer you choose you might also have to tune the learning rate and momentum of those optimizers after that. "
   ]
  },
  {
   "cell_type": "markdown",
   "metadata": {
    "colab_type": "text",
    "id": "DG3wq5iOaLig"
   },
   "source": [
    "## Learning Rate\n",
    "\n",
    "Remember that the Learning Rate is a hyperparameter that is specific to your gradient-descent based optimizer selection. A learning rate that is too high will cause divergent behavior, but a Learning Rate that is too low will fail to converge, again, you're looking for the sweet spot. I would start out tuning learning rates by orders of magnitude: [.001, .01, .1, .2, .3, .5] etc. I wouldn't go above .5, but you can try it and see what the behavior is like. \n",
    "\n",
    "Once you have narrowed it down, make the window even smaller and try it again. If after running the above specification your model reports that .1 is the best optimizer, then you should probably try things like [.05, .08, .1, .12, .15] to try and narrow it down. \n",
    "\n",
    "It can also be good to tune the number of epochs in combination with the learning rate since the number of iterations that you allow the learning rate to reach the minimum can determine if you have let it run long enough to converge to the minimum. "
   ]
  },
  {
   "cell_type": "markdown",
   "metadata": {
    "colab_type": "text",
    "id": "gNTBUWd1aLlA"
   },
   "source": [
    "## Momentum\n",
    "\n",
    "Momentum is a hyperparameter that is more commonly associated with Stochastic Gradient Descent. SGD is a common optimizer because it's what people understand and know, but I doubt it will get you the best results, you can try hyperparameter tuning its attributes and see if you can beat the performance from adam. Momentum is a property that decides the willingness of an optimizer to overshoot the minimum. Imagine a ball rolling down one side of a bowl and then up the opposite side a little bit before settling back to the bottom. The purpose of momentum is to try and escale local minima."
   ]
  },
  {
   "cell_type": "markdown",
   "metadata": {
    "colab_type": "text",
    "id": "xnEG-bCJaLnZ"
   },
   "source": [
    "## Activation Functions\n",
    "\n",
    "We've talked about this a little bit, typically you'l want to use ReLU for hidden layers and either Sigmoid, or Softmax for output layers of binary and multi-class classification implementations respectively, but try other activation functions and see if you can get any better results with sigmoid or tanh or something. There are a lot of activation functions that we haven't really talked about. Maybe you'll get good results with them. Maybe you won't. :) <https://keras.io/activations/>"
   ]
  },
  {
   "cell_type": "markdown",
   "metadata": {
    "colab_type": "text",
    "id": "oul9sPq-dU-h"
   },
   "source": [
    "## Network Weight Initialization\n",
    "\n",
    "You saw how big of an effect the way that we initialize our network's weights can have on our results. There are **a lot** of what are called initialization modes. I don't understand all of them, but they can have a big affect on your model's initial accuracy. Your model will get further with less epochs if you initialize it with weights that are well suited to the problem you're trying to solve.\n",
    "\n",
    "`init_mode = ['uniform', 'lecun_uniform', 'normal', 'zero', 'glorot_normal', 'glorot_uniform', 'he_normal', 'he_uniform']`"
   ]
  },
  {
   "cell_type": "markdown",
   "metadata": {
    "colab_type": "text",
    "id": "bqtEuxeQaLqE"
   },
   "source": [
    "## Dropout Regularization and the Weight Constraint\n",
    "\n",
    "the Dropout Regularization value is a percentage of neurons that you want to be randomly deactivated during training. The weight constraint is a second regularization parameter that works in tandem with dropout regularization. You should tune these two values at the same time. \n",
    "\n",
    "Using dropout on visible vs hidden layers might have a different effect. Using dropout on hidden layers might not have any effect while using dropout on hidden layers might have a substantial effect. You don't necessarily need to turn use dropout unless you see that your model has overfitting and generalizability problems."
   ]
  },
  {
   "cell_type": "markdown",
   "metadata": {
    "colab_type": "text",
    "id": "P2c5Cv6oaLtO"
   },
   "source": [
    "## Neurons in Hidden Layer \n",
    "\n",
    "Remember that when we only had a single perceptron our model was only able to fit to linearly separable data, but as we have added layers and nodes to those layers our network has become a powerhouse of fitting nonlinearity in data. The larger the network and the more nodes generally the stronger the network's capacity to fit nonlinear patterns in data. The more nodes and layers the longer it will take to train a network, and higher the probability of overfitting. The larger your network gets the more you'll need dropout regularization or other regularization techniques to keep it in check. \n",
    "\n",
    "Typically depth (more layers) is more important than width (more nodes) for neural networks. This is part of why Deep Learning is so highly touted. Certain deep learning architectures have truly been huge breakthroughs for certain machine learning tasks. \n",
    "\n",
    "You might borrow ideas from other network architectures. For example if I was doing image recognition and I wasn't taking cues from state of the art architectures like resnet, alexnet, googlenet, etc. Then I'm probably going to have to do a lot more experimentation on my own before I find something that works.\n",
    "\n",
    "There are some heuristics, but I am highly skeptical of them. I think you're better off experimenting on your own and forming your own intuition for these kinds of problems. \n",
    "\n",
    "- https://machinelearningmastery.com/how-to-configure-the-number-of-layers-and-nodes-in-a-neural-network/"
   ]
  },
  {
   "cell_type": "markdown",
   "metadata": {
    "colab_type": "text",
    "id": "3LvRYQOwd-aZ"
   },
   "source": [
    "# Hyperparameter Tuning Tips:\n",
    "\n",
    "1) Use **at least** 3-fold cross validation. 5-fold or 10-fold would be better if you're patient enough.\n",
    "\n",
    "2) Sampling your dataset can speed up iterations if you have enough data to justify it.\n",
    "\n",
    "3) Start with \"Coarse Grids\" we gave an example of this when we were talking about Learning Rate, start with wide gaps between values that you're testing and then run additional tests with more narrow gaps between values until you find an optimum.\n",
    "\n",
    "4) Even though we're using Cross Validation, reproducibility can still be a challenge. Don't be afraid to run some tests multiple times to see if you get the same results. Sometimes the accuracy differences are so slight that grid search picking one hyperparameter over another is just luck of the draw.\n",
    "\n",
    "5) Run your tests in verbose mode. Not only will you be less stressed out wondering if it's actually running, but you will be able to more quickly identify if something has gone haywire by glancing at the output every now and again.\n",
    "\n",
    "6) Pick a moderate amount of epochs and stick with that all throughout your training, until the very end, then tune your epochs. \n",
    "\n",
    "7) As you begin to have a lot of hyperparameters narrowed down, test them along with narrow versions of other hyperparameters in order to catch the small effects of interactions between specific hyperparameters.\n",
    "\n",
    "8) Being a perfectionist here is going to be a long and painful journey, so please do a cost-benefit analysis of how you're using your time here. Learn the concept, have the experience, but don't spend 3 days hyperparameter tuning your assignment."
   ]
  },
  {
   "cell_type": "markdown",
   "metadata": {
    "colab_type": "text",
    "id": "z2cC0lpAhDQ_"
   },
   "source": [
    "## Additional Reading:\n",
    "\n",
    "I know I sound like a shill for Jason Brownlee, but honestly he has some of the very best articles on the internet in regards to hyperparameter tuning with Keras. I have leaned on his articles heavily when doing hyperparameter tuning before and saw great results from following his advice. He has articles on lots and lots of Keras related topics, so keep an ey out for his website: <http://machinelearningmastery.com> as you look through search results today.\n",
    "\n",
    "- https://machinelearningmastery.com/grid-search-hyperparameters-deep-learning-models-python-keras/\n",
    "- https://blog.floydhub.com/guide-to-hyperparameters-search-for-deep-learning-models/\n",
    "- https://machinelearningmastery.com/dropout-regularization-deep-learning-models-keras/\n",
    "- https://machinelearningmastery.com/introduction-to-weight-constraints-to-reduce-generalization-error-in-deep-learning/\n",
    "- https://machinelearningmastery.com/how-to-configure-the-number-of-layers-and-nodes-in-a-neural-network/"
   ]
  }
 ],
 "metadata": {
  "colab": {
   "collapsed_sections": [],
   "name": "LS_DS_434_Hyperparameter_Tuning.ipynb",
   "provenance": [],
   "version": "0.3.2"
  },
  "kernelspec": {
   "display_name": "U4-S2-NNF (Python 3)",
   "language": "python",
   "name": "u4-s2-nnf"
  },
  "language_info": {
   "codemirror_mode": {
    "name": "ipython",
    "version": 3
   },
   "file_extension": ".py",
   "mimetype": "text/x-python",
   "name": "python",
   "nbconvert_exporter": "python",
   "pygments_lexer": "ipython3",
   "version": "3.7.3"
  }
 },
 "nbformat": 4,
 "nbformat_minor": 2
}
